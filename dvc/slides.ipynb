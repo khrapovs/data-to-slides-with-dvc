{
 "cells": [
  {
   "cell_type": "markdown",
   "id": "42eb6f84-efcb-4681-9f29-00f29c88a6ba",
   "metadata": {
    "editable": true,
    "slideshow": {
     "slide_type": "slide"
    },
    "tags": []
   },
   "source": [
    "# Model Performance"
   ]
  },
  {
   "cell_type": "code",
   "execution_count": null,
   "id": "106fa0a7-1149-4cae-95ed-56f5c55facbe",
   "metadata": {
    "editable": true,
    "slideshow": {
     "slide_type": "skip"
    },
    "tags": []
   },
   "outputs": [],
   "source": [
    "import os\n",
    "from pathlib import Path\n",
    "\n",
    "import matplotlib.pylab as plt\n",
    "import polars as pl\n",
    "from joblib import load\n",
    "from sklearn.metrics import ConfusionMatrixDisplay\n",
    "from sklearn.model_selection import train_test_split"
   ]
  },
  {
   "cell_type": "code",
   "execution_count": null,
   "id": "91deaa8e-2c2f-47ca-9b37-d798bf685dd4",
   "metadata": {
    "editable": true,
    "slideshow": {
     "slide_type": "skip"
    },
    "tags": []
   },
   "outputs": [],
   "source": [
    "data_path = Path(os.path.abspath(\"\")).parents[0] / \"data\"\n",
    "transformed_data_path = data_path / \"transformed_data.parquet\"\n",
    "model_path = data_path / \"model.joblib\"\n",
    "\n",
    "transformed_data = pl.read_parquet(transformed_data_path)\n",
    "x_data = transformed_data.select(pl.selectors.exclude(\"class\"))\n",
    "y_data = transformed_data.select(\"class\")\n",
    "x_train, x_test, y_train, y_test = train_test_split(\n",
    "    x_data, y_data, test_size=0.3, shuffle=True, random_state=0, stratify=y_data\n",
    ")\n",
    "\n",
    "model = load(model_path)"
   ]
  },
  {
   "cell_type": "markdown",
   "id": "d6d23170-ce07-42d9-8d41-6d5d5795b311",
   "metadata": {
    "editable": true,
    "slideshow": {
     "slide_type": "subslide"
    },
    "tags": []
   },
   "source": [
    "## Confusion Matrix"
   ]
  },
  {
   "cell_type": "code",
   "execution_count": null,
   "id": "3c2833f5-2f53-490e-a417-b309a529576a",
   "metadata": {
    "editable": true,
    "slideshow": {
     "slide_type": "fragment"
    },
    "tags": [
     "hide-input"
    ]
   },
   "outputs": [],
   "source": [
    "ConfusionMatrixDisplay.from_estimator(model, X=x_test, y=y_test)\n",
    "plt.show()"
   ]
  }
 ],
 "metadata": {
  "kernelspec": {
   "display_name": "Python 3 (ipykernel)",
   "language": "python",
   "name": "python3"
  },
  "language_info": {
   "codemirror_mode": {
    "name": "ipython",
    "version": 3
   },
   "file_extension": ".py",
   "mimetype": "text/x-python",
   "name": "python",
   "nbconvert_exporter": "python",
   "pygments_lexer": "ipython3",
   "version": "3.13.0"
  }
 },
 "nbformat": 4,
 "nbformat_minor": 5
}
